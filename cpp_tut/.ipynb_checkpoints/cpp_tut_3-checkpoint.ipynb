{
 "cells": [
  {
   "cell_type": "markdown",
   "metadata": {},
   "source": [
    "From a tutorial in this [link](https://www.youtube.com/watch?v=7pLldfZunJI&index=6&list=PLGLfVvz_LVvQ9S8YSV0iDsuEU8v11yP9M)."
   ]
  },
  {
   "cell_type": "code",
   "execution_count": 1,
   "metadata": {},
   "outputs": [
    {
     "data": {
      "text/plain": []
     },
     "execution_count": 1,
     "metadata": {},
     "output_type": "execute_result"
    }
   ],
   "source": [
    "// header files\n",
    "# include <iostream>\n",
    "# include <string>\n",
    "# include <vector>\n",
    "# include <numeric>"
   ]
  },
  {
   "cell_type": "code",
   "execution_count": 2,
   "metadata": {},
   "outputs": [
    {
     "data": {
      "text/plain": []
     },
     "execution_count": 2,
     "metadata": {},
     "output_type": "execute_result"
    }
   ],
   "source": [
    "// function prototype \n",
    "int addition(int a, int b)"
   ]
  },
  {
   "cell_type": "code",
   "execution_count": 3,
   "metadata": {},
   "outputs": [
    {
     "data": {
      "text/plain": []
     },
     "execution_count": 3,
     "metadata": {},
     "output_type": "execute_result"
    }
   ],
   "source": [
    "// functions (since its CLING, it should be run before calling)\n",
    "int addition(int a, int b){\n",
    "    return a+b;\n",
    "}"
   ]
  },
  {
   "cell_type": "code",
   "execution_count": 4,
   "metadata": {
    "scrolled": true
   },
   "outputs": [
    {
     "name": "stdout",
     "output_type": "stream",
     "text": [
      "Address : 0x7f7fad8f4018\n",
      "Value at Address : 43\n"
     ]
    },
    {
     "data": {
      "text/plain": [
       "(std::basic_ostream<char, std::char_traits<char> >::__ostream_type &) @0x7f7fa709bf40\n"
      ]
     },
     "execution_count": 4,
     "metadata": {},
     "output_type": "execute_result"
    }
   ],
   "source": [
    "// \n",
    "\n",
    "int age = 43;\n",
    "int* pAge = &age;\n",
    "    \n",
    "std::cout << \"Address : \" << pAge << std::endl;\n",
    "std::cout << \"Value at Address : \" << *pAge << std::endl;\n",
    "\n"
   ]
  },
  {
   "cell_type": "code",
   "execution_count": 5,
   "metadata": {},
   "outputs": [
    {
     "name": "stdout",
     "output_type": "stream",
     "text": [
      "Array 2\n",
      "Array 4\n",
      "Array 6\n",
      "Array 8\n"
     ]
    },
    {
     "data": {
      "text/plain": []
     },
     "execution_count": 5,
     "metadata": {},
     "output_type": "execute_result"
    }
   ],
   "source": [
    "// Manipulating arrays.\n",
    "\n",
    "void DoubleArray( int* arr, int size){\n",
    "    for(int i = 0; i < size; ++i ){\n",
    "        arr[i] = arr[i] * 2;\n",
    "    }\n",
    "}\n",
    "\n",
    "int arr[] = {1,2,3,4};\n",
    "DoubleArray(arr,4);\n",
    "for (int i = 0; i <4; ++i){\n",
    "    std::cout << \"Array \" << arr[i] << \"\\n\"; \n",
    "}"
   ]
  },
  {
   "cell_type": "markdown",
   "metadata": {},
   "source": [
    "# Task - create Range function"
   ]
  },
  {
   "cell_type": "code",
   "execution_count": 6,
   "metadata": {},
   "outputs": [
    {
     "data": {
      "text/plain": []
     },
     "execution_count": 6,
     "metadata": {},
     "output_type": "execute_result"
    }
   ],
   "source": [
    "// std::vector<int> Range(int start, int max, int step) // prototype"
   ]
  },
  {
   "cell_type": "code",
   "execution_count": 7,
   "metadata": {
    "scrolled": true
   },
   "outputs": [
    {
     "name": "stdout",
     "output_type": "stream",
     "text": [
      "1\n",
      "3\n",
      "5\n",
      "7\n",
      "9\n"
     ]
    },
    {
     "data": {
      "text/plain": []
     },
     "execution_count": 7,
     "metadata": {},
     "output_type": "execute_result"
    }
   ],
   "source": [
    "std::vector<int> Range(int start, int max, int step){\n",
    "    int i = start;\n",
    "    std::vector<int> range;\n",
    "    while(i <= max){\n",
    "        range.push_back(i);\n",
    "        i += step;\n",
    "    }\n",
    "    return range;\n",
    "}\n",
    "\n",
    "std::vector<int> range = Range(1,10,2);\n",
    "for (auto y: range) std::cout << y << \"\\n\";"
   ]
  },
  {
   "cell_type": "code",
   "execution_count": 8,
   "metadata": {},
   "outputs": [
    {
     "name": "stdout",
     "output_type": "stream",
     "text": [
      "How much to invest : Interest Rate : Value after 10 years : 2158.92\n"
     ]
    },
    {
     "data": {
      "text/plain": [
       "(std::basic_ostream<char, std::char_traits<char> > &) @0x7f7fa709bf40\n"
      ]
     },
     "execution_count": 8,
     "metadata": {},
     "output_type": "execute_result"
    }
   ],
   "source": [
    "double investment = 0.0, interestRate = 0.0;\n",
    "std::cout << \"How much to invest : \";\n",
    "//std::cin >> investment;\n",
    "investment = 1000;\n",
    "std::cout << \"Interest Rate : \";\n",
    "// std::cin >> interestRate;\n",
    "interestRate = 8;\n",
    "\n",
    "interestRate *= .01;\n",
    "for( auto y: Range(1, 10, 1)){\n",
    "    investment += (investment * interestRate);\n",
    "}\n",
    "std::cout << \"Value after 10 years : \" << investment << \"\\n\";\n",
    "\n"
   ]
  },
  {
   "cell_type": "code",
   "execution_count": null,
   "metadata": {},
   "outputs": [],
   "source": []
  }
 ],
 "metadata": {
  "kernelspec": {
   "display_name": "C++14",
   "language": "",
   "name": "cling-cpp14"
  },
  "language_info": {
   "codemirror_mode": "c++",
   "file_extension": ".c++",
   "mimetype": "text/x-c++src",
   "name": "c++"
  }
 },
 "nbformat": 4,
 "nbformat_minor": 2
}
