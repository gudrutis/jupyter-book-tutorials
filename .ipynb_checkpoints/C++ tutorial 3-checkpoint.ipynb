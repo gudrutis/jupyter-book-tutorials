{
 "cells": [
  {
   "cell_type": "markdown",
   "metadata": {},
   "source": [
    "From a tutorial in this [link](https://www.youtube.com/watch?v=7pLldfZunJI&index=6&list=PLGLfVvz_LVvQ9S8YSV0iDsuEU8v11yP9M)."
   ]
  },
  {
   "cell_type": "code",
   "execution_count": 1,
   "metadata": {},
   "outputs": [
    {
     "data": {
      "text/plain": []
     },
     "execution_count": 1,
     "metadata": {},
     "output_type": "execute_result"
    }
   ],
   "source": [
    "// header files\n",
    "# include <iostream>\n",
    "# include <string>\n",
    "# include <vector>\n",
    "# include <numeric>"
   ]
  },
  {
   "cell_type": "code",
   "execution_count": 2,
   "metadata": {},
   "outputs": [
    {
     "data": {
      "text/plain": []
     },
     "execution_count": 2,
     "metadata": {},
     "output_type": "execute_result"
    }
   ],
   "source": [
    "// function prototype \n",
    "int addition(int a, int b)"
   ]
  },
  {
   "cell_type": "code",
   "execution_count": 3,
   "metadata": {},
   "outputs": [
    {
     "data": {
      "text/plain": []
     },
     "execution_count": 3,
     "metadata": {},
     "output_type": "execute_result"
    }
   ],
   "source": [
    "// functions (since its CLING, it should be run before calling)\n",
    "int addition(int a, int b){\n",
    "    return a+b;\n",
    "}"
   ]
  },
  {
   "cell_type": "code",
   "execution_count": 4,
   "metadata": {
    "scrolled": true
   },
   "outputs": [
    {
     "name": "stdout",
     "output_type": "stream",
     "text": [
      "Address : 0x7f110458f018\n",
      "Value at Address : 43\n"
     ]
    },
    {
     "data": {
      "text/plain": [
       "(std::basic_ostream<char, std::char_traits<char> >::__ostream_type &) @0x7f10fdd36f40\n"
      ]
     },
     "execution_count": 4,
     "metadata": {},
     "output_type": "execute_result"
    }
   ],
   "source": [
    "// \n",
    "\n",
    "int age = 43;\n",
    "int* pAge = &age;\n",
    "    \n",
    "std::cout << \"Address : \" << pAge << std::endl;\n",
    "std::cout << \"Value at Address : \" << *pAge << std::endl;\n",
    "\n"
   ]
  },
  {
   "cell_type": "code",
   "execution_count": 5,
   "metadata": {},
   "outputs": [
    {
     "name": "stdout",
     "output_type": "stream",
     "text": [
      "Array 2\n",
      "Array 4\n",
      "Array 6\n",
      "Array 8\n"
     ]
    },
    {
     "data": {
      "text/plain": []
     },
     "execution_count": 5,
     "metadata": {},
     "output_type": "execute_result"
    }
   ],
   "source": [
    "// Manipulating arrays.\n",
    "\n",
    "void DoubleArray( int* arr, int size){\n",
    "    for(int i = 0; i < size; ++i ){\n",
    "        arr[i] = arr[i] * 2;\n",
    "    }\n",
    "}\n",
    "\n",
    "int arr[] = {1,2,3,4};\n",
    "DoubleArray(arr,4);\n",
    "for (int i = 0; i <4; ++i){\n",
    "    std::cout << \"Array \" << arr[i] << \"\\n\"; \n",
    "}"
   ]
  },
  {
   "cell_type": "code",
   "execution_count": 6,
   "metadata": {},
   "outputs": [
    {
     "data": {
      "text/plain": []
     },
     "execution_count": 6,
     "metadata": {},
     "output_type": "execute_result"
    }
   ],
   "source": [
    "// Task create Range function"
   ]
  },
  {
   "cell_type": "code",
   "execution_count": 7,
   "metadata": {},
   "outputs": [
    {
     "data": {
      "text/plain": []
     },
     "execution_count": 7,
     "metadata": {},
     "output_type": "execute_result"
    }
   ],
   "source": [
    "std::vector<int> Range(int start, int max, int step) // prototype"
   ]
  },
  {
   "cell_type": "code",
   "execution_count": 8,
   "metadata": {},
   "outputs": [
    {
     "name": "stderr",
     "output_type": "stream",
     "text": [
      "\u001b[1minput_line_13:5:15: \u001b[0m\u001b[0;1;31merror: \u001b[0m\u001b[1mno member named 'pu' in 'std::vector<int, std::allocator<int> >'\u001b[0m\n",
      "        range.pu\n",
      "\u001b[0;1;32m        ~~~~~ ^\n",
      "\u001b[0m"
     ]
    },
    {
     "ename": "ename",
     "evalue": "evalue",
     "output_type": "error",
     "traceback": []
    }
   ],
   "source": [
    "std::vector<int> Range(int start, int max, int step){\n",
    "    int i = start;\n",
    "    std::vector<int> range;\n",
    "    while(i <= max){\n",
    "        range.pu\n",
    "    }\n",
    "}"
   ]
  }
 ],
 "metadata": {
  "kernelspec": {
   "display_name": "C++17",
   "language": "",
   "name": "cling-cpp17"
  },
  "language_info": {
   "codemirror_mode": "c++",
   "file_extension": ".c++",
   "mimetype": "text/x-c++src",
   "name": "c++"
  }
 },
 "nbformat": 4,
 "nbformat_minor": 2
}
